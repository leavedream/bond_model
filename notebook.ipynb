{
 "cells": [
  {
   "cell_type": "code",
   "execution_count": 1,
   "id": "7678a1a5-39f1-4a26-9d55-9cdb2913cc3d",
   "metadata": {},
   "outputs": [],
   "source": [
    "from bond import Bond\n",
    "from curve import Curve\n",
    "from yieldcalculator import YieldCalculator\n",
    "from oas import OASModel\n",
    "from datetime import datetime, date\n",
    "import requests\n",
    "import pprint\n",
    "%load_ext autoreload\n",
    "%autoreload 2"
   ]
  },
  {
   "cell_type": "markdown",
   "id": "20ab7405-ebe3-4842-be48-f07c0f4a409f",
   "metadata": {},
   "source": [
    "### Use the Python modules"
   ]
  },
  {
   "cell_type": "code",
   "execution_count": 46,
   "id": "267bc30e-6926-4009-a52b-d7ea4293482b",
   "metadata": {},
   "outputs": [
    {
     "name": "stdout",
     "output_type": "stream",
     "text": [
      "The bond: 459200AM3 7.000000000000001 10/30/2025\n",
      "\tPrice: 105.153\n",
      "\tytm=0.04972782087703231\n",
      "\tytc=None\n",
      "\tytc=None\n",
      "\tytw=0.04972782087703231\n",
      "\tspread=0.01202782087703231\n",
      "The bond: 459200KY6 4.75 11/06/2032\n",
      "\tPrice: 98.497\n",
      "\tytm=0.050132419027993404\n",
      "\tytc=0.050132419027993404\n",
      "\tytc=0.050132419027993404\n",
      "\tytw=0.050132419027993404\n",
      "\tspread=0.015432419027993402\n",
      "The bond: 459200KX8 4.5 01/06/2028\n",
      "\tPrice: 98.412\n",
      "\tytm=0.04934373230976048\n",
      "\tytc=0.04934373230976048\n",
      "\tytc=0.04934373230976048\n",
      "\tytw=0.04934373230976048\n",
      "\tspread=0.013743732309760483\n",
      "The bond: 459200KZ3 5.1 08/06/2052\n",
      "\tPrice: 95.427\n",
      "\tytm=0.05486920060641127\n",
      "\tytc=0.05486920060641127\n",
      "\tytc=0.05486920060641127\n",
      "\tytw=0.05486920060641127\n",
      "\tspread=0.01836920060641127\n",
      "The bond: 459200HU8 3.6249999999999996 02/12/2024\n",
      "\tPrice: 98.749\n",
      "\tytm=0.051124337075510944\n",
      "\tytc=None\n",
      "\tytc=None\n",
      "\tytw=0.051124337075510944\n",
      "\tspread=0.0077243370755109425\n"
     ]
    }
   ],
   "source": [
    "valueDate = date(2023, 3, 20)\n",
    "\n",
    "spot_curve = Curve(valueDate)\n",
    "spot_curve.load_from_csv('./data/treasuryspotcurve.csv')\n",
    "\n",
    "par_curve = Curve(valueDate)\n",
    "par_curve.load_from_csv('./data/treasuryparcurve.csv')\n",
    "\n",
    "bonds = Bond.load_all_bonds()\n",
    "# price the first 5 bonds\n",
    "for i in range(5):\n",
    "    bond = bonds[i]\n",
    "    bond.calculate_coupon_schedule()\n",
    "    ytm = YieldCalculator.get_ytm(bond, bond._market_price, valueDate)\n",
    "    ytc = YieldCalculator.get_ytc(bond, bond._market_price, valueDate)\n",
    "    ytw = YieldCalculator.get_ytw(bond, bond._market_price, valueDate)\n",
    "    tenor, trsy_yield = YieldCalculator.get_yield_spread(bond, ytm, par_curve, interpolate=False)\n",
    "    # model = OASModel()\n",
    "    # oas = model.Calculate_OAS(bond, spot_curve, valueDate, bond._market_price, 0.001)\n",
    "    print(f\"The bond: {bond}\")\n",
    "    print(f\"\\tPrice: {bond._market_price}\\n\\tytm={ytm}\\n\\tytc={ytc}\\n\\tytc={ytc}\\n\\tytw={ytw[0]}\\n\\tspread={ytm - trsy_yield}\")\n"
   ]
  },
  {
   "cell_type": "markdown",
   "id": "1933806a-86c9-483b-8ad8-db7ec53bde32",
   "metadata": {},
   "source": [
    "### Use the REST service\n",
    "Make sure flast service is started"
   ]
  },
  {
   "cell_type": "code",
   "execution_count": 47,
   "id": "5221130a-74d8-410c-ae7b-c2f1da0638a4",
   "metadata": {},
   "outputs": [
    {
     "name": "stdout",
     "output_type": "stream",
     "text": [
      "{'Announce': '10/25/1995',\n",
      " 'Ask Price': 105.153,\n",
      " 'CUSIP': '459200AM3',\n",
      " 'Composite Rating': 'A-',\n",
      " 'Coupon Freq': 2,\n",
      " 'Coupon Type': 'FIXED',\n",
      " 'Cpn': 7.000000000000001,\n",
      " 'Currency': 'USD',\n",
      " 'Issue Date': '10/30/1995',\n",
      " 'Issued Amount': 600000000.0,\n",
      " 'Maturity': '10/30/2025',\n",
      " 'Maturity Type': 'AT MATURITY',\n",
      " 'Next Call Date': None,\n",
      " 'Next Call Price': 100,\n",
      " 'Recovery': 0.75,\n",
      " 'Ticker': 'IBM'}\n"
     ]
    }
   ],
   "source": [
    "# Load all bonds\n",
    "resp = requests.get('http://127.0.0.1:5000/bond')\n",
    "# print(resp.content)\n",
    "\n",
    "# Load the bond for CUSIP\n",
    "resp = requests.get('http://127.0.0.1:5000/bond?cusip=459200AM3')\n",
    "pprint.pprint(resp.json())\n"
   ]
  },
  {
   "cell_type": "code",
   "execution_count": 48,
   "id": "c775f213-b1c0-4796-a7ed-8edd3a23af3a",
   "metadata": {},
   "outputs": [
    {
     "name": "stdout",
     "output_type": "stream",
     "text": [
      "{'CUSIP': '459200AM3',\n",
      " 'Coupon': 0.07,\n",
      " 'Maturity': '10/30/2025',\n",
      " 'OAS': -0.5108559542505597,\n",
      " 'Price': 105.153,\n",
      " 'ValueDate': '03/20/2023',\n",
      " 'jtd': 30.153000000000006,\n",
      " 'ytc': None,\n",
      " 'ytm': 0.04972782087703231,\n",
      " 'ytm to treasury spread': 0.01202782087703231,\n",
      " 'ytw': 0.04972782087703231,\n",
      " 'ytw_date': '10/30/2025'}\n"
     ]
    }
   ],
   "source": [
    "# price a bond given the CUSIP, price and val_date\n",
    "resp = requests.get('http://127.0.0.1:5000/pricing?cusip=459200AM3&price=105.153&value_date=20230320&oas=0.05')\n",
    "pprint.pprint(resp.json())"
   ]
  }
 ],
 "metadata": {
  "kernelspec": {
   "display_name": "Python 3 (ipykernel)",
   "language": "python",
   "name": "python3"
  },
  "language_info": {
   "codemirror_mode": {
    "name": "ipython",
    "version": 3
   },
   "file_extension": ".py",
   "mimetype": "text/x-python",
   "name": "python",
   "nbconvert_exporter": "python",
   "pygments_lexer": "ipython3",
   "version": "3.8.10"
  }
 },
 "nbformat": 4,
 "nbformat_minor": 5
}
